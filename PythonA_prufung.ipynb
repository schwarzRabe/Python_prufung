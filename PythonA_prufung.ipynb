{
 "cells": [
  {
   "cell_type": "markdown",
   "id": "7019b5fb-3bc3-4dec-91f2-c17f5258a1f8",
   "metadata": {},
   "source": [
    "Задание 1: Работа с массивами NumPy\n",
    "Цель: Проверить знание методов NumPy для анализа данных.\n",
    "\n",
    "Задание:\n",
    "\n",
    "Создайте массив случайных чисел (50 элементов) из диапазона [10, 100].\n",
    "Найдите:\n",
    "Среднее арифметическое массива.\n",
    "Медиану.\n",
    "Стандартное отклонение.\n",
    "Создайте новый массив, где каждое число изначального массива делится на 3. Отфильтруйте числа, которые делятся без остатка.\n",
    "Ожидаемый ответ:\n",
    "\n",
    "Вывод среднего, медианы, стандартного отклонения.\n",
    "Новый массив и его фильтр."
   ]
  },
  {
   "cell_type": "code",
   "execution_count": 2,
   "id": "5b4ed1a7-6b0a-49d7-aa69-4ea33f96c946",
   "metadata": {},
   "outputs": [
    {
     "name": "stdout",
     "output_type": "stream",
     "text": [
      "Массив 50 случайных чисел:\n",
      "\n"
     ]
    },
    {
     "data": {
      "text/plain": [
       "array([[24, 91, 97, 79, 90],\n",
       "       [73, 25, 12, 83, 92],\n",
       "       [99, 73, 31, 89, 12],\n",
       "       [89, 34, 68, 34, 76],\n",
       "       [16, 92, 61, 95, 80],\n",
       "       [59, 21, 20, 76, 16],\n",
       "       [44, 12, 87, 11, 17],\n",
       "       [57, 27, 67, 34, 13],\n",
       "       [68, 69, 92, 32, 46],\n",
       "       [88, 43, 71, 87, 63]])"
      ]
     },
     "metadata": {},
     "output_type": "display_data"
    },
    {
     "name": "stdout",
     "output_type": "stream",
     "text": [
      "Среднее арифметическое = 56.7\n",
      "Медиана = 65.0\n",
      "Стандартное отклонение = 29.4\n",
      "\n",
      "Новый массив, где каждое число изначального массива делим на 3\n",
      "[[ 8.         30.33333333 32.33333333 26.33333333 30.        ]\n",
      " [24.33333333  8.33333333  4.         27.66666667 30.66666667]\n",
      " [33.         24.33333333 10.33333333 29.66666667  4.        ]\n",
      " [29.66666667 11.33333333 22.66666667 11.33333333 25.33333333]\n",
      " [ 5.33333333 30.66666667 20.33333333 31.66666667 26.66666667]\n",
      " [19.66666667  7.          6.66666667 25.33333333  5.33333333]\n",
      " [14.66666667  4.         29.          3.66666667  5.66666667]\n",
      " [19.          9.         22.33333333 11.33333333  4.33333333]\n",
      " [22.66666667 23.         30.66666667 10.66666667 15.33333333]\n",
      " [29.33333333 14.33333333 23.66666667 29.         21.        ]]\n",
      "\n",
      "Новый массив, где каждое число изначального массива делится на 3 без остатка \n",
      "[ 8 30  4 33  4  7  4 29 19  9 23 29 21]\n"
     ]
    }
   ],
   "source": [
    "import numpy as np\n",
    "import random\n",
    "import matplotlib.pyplot as plt\n",
    "\n",
    "# Генерация массива случайных чисел\n",
    "random_array_int =  np.random.randint(10, 100, size = (10,5))\n",
    "print(\"Массив 50 случайных чисел:\\n\")\n",
    "display(random_array_int)\n",
    "\n",
    "#random_array_uni = [random.uniform(10, 100) for _ in range(array_size)]\n",
    "#print(f\"Массив случайных чисел: {random_array_uni}\")\n",
    "\n",
    "# Среднее арифметическое массива. \n",
    "print(f'Среднее арифметическое = {np.mean(random_array_int)}') \n",
    "# Медиана. \n",
    "print(f'Медиана = {np.median(random_array_int)}')\n",
    "# Стандартное отклонение. \n",
    "print(f'Стандартное отклонение = {round(np.std(random_array_int),1)}')\n",
    "\n",
    "# Создайте новый массив, где каждое число изначального массива делится на 3. \n",
    "array_3 = np.multiply(1/3, random_array_int)\n",
    "print(f'\\nНовый массив, где каждое число изначального массива делим на 3\\n{array_3}')\n",
    "\n",
    "# Новый массив и его фильтр.\n",
    "new_arr = array_3[array_3 % 1 == 0].astype(int)\n",
    "print(f'\\nНовый массив, где каждое число изначального массива делится на 3 без остатка \\n{new_arr}')"
   ]
  },
  {
   "cell_type": "markdown",
   "id": "8ec614fb-6086-4720-8a02-e3832431cfbe",
   "metadata": {},
   "source": [
    "Задание 2: Анализ данных с помощью Pandas\n",
    "Цель: Проверить навыки анализа и обработки данных.\n",
    "\n",
    "Данные: Используйте предоставленный CSV-файл (\"sales_data_large.csv\"), содержащий данные о продажах с полями:\n",
    "\n",
    "date (дата продаж),\n",
    "region (регион),\n",
    "product (продукт),\n",
    "sales (объем продаж).\n",
    "Задание:\n",
    "\n",
    "Загрузите данные из файла.\n",
    "Определите:\n",
    "Общее количество записей.\n",
    "Какие регионы и продукты присутствуют в данных.\n",
    "Подсчитайте:\n",
    "Общие продажи по регионам.\n",
    "Средний объем продаж для каждого продукта.\n",
    "Постройте сводную таблицу, показывающую средние продажи по регионам и продуктам.\n",
    "Ожидаемый ответ:\n",
    "\n",
    "Итоги анализа данных.\n",
    "Построенная сводная таблица."
   ]
  },
  {
   "cell_type": "code",
   "execution_count": 4,
   "id": "f3b0a37d-d71f-4426-b923-4bcce528892f",
   "metadata": {},
   "outputs": [
    {
     "data": {
      "text/html": [
       "<div>\n",
       "<style scoped>\n",
       "    .dataframe tbody tr th:only-of-type {\n",
       "        vertical-align: middle;\n",
       "    }\n",
       "\n",
       "    .dataframe tbody tr th {\n",
       "        vertical-align: top;\n",
       "    }\n",
       "\n",
       "    .dataframe thead th {\n",
       "        text-align: right;\n",
       "    }\n",
       "</style>\n",
       "<table border=\"1\" class=\"dataframe\">\n",
       "  <thead>\n",
       "    <tr style=\"text-align: right;\">\n",
       "      <th></th>\n",
       "      <th>date</th>\n",
       "      <th>region</th>\n",
       "      <th>product</th>\n",
       "      <th>sales</th>\n",
       "    </tr>\n",
       "  </thead>\n",
       "  <tbody>\n",
       "    <tr>\n",
       "      <th>0</th>\n",
       "      <td>2024-12-01</td>\n",
       "      <td>West</td>\n",
       "      <td>Widget C</td>\n",
       "      <td>246</td>\n",
       "    </tr>\n",
       "    <tr>\n",
       "      <th>1</th>\n",
       "      <td>2024-12-01</td>\n",
       "      <td>South</td>\n",
       "      <td>Widget B</td>\n",
       "      <td>152</td>\n",
       "    </tr>\n",
       "    <tr>\n",
       "      <th>2</th>\n",
       "      <td>2024-12-01</td>\n",
       "      <td>West</td>\n",
       "      <td>Widget B</td>\n",
       "      <td>391</td>\n",
       "    </tr>\n",
       "    <tr>\n",
       "      <th>3</th>\n",
       "      <td>2024-12-01</td>\n",
       "      <td>West</td>\n",
       "      <td>Widget A</td>\n",
       "      <td>272</td>\n",
       "    </tr>\n",
       "    <tr>\n",
       "      <th>4</th>\n",
       "      <td>2024-12-01</td>\n",
       "      <td>East</td>\n",
       "      <td>Widget A</td>\n",
       "      <td>337</td>\n",
       "    </tr>\n",
       "  </tbody>\n",
       "</table>\n",
       "</div>"
      ],
      "text/plain": [
       "         date region   product  sales\n",
       "0  2024-12-01   West  Widget C    246\n",
       "1  2024-12-01  South  Widget B    152\n",
       "2  2024-12-01   West  Widget B    391\n",
       "3  2024-12-01   West  Widget A    272\n",
       "4  2024-12-01   East  Widget A    337"
      ]
     },
     "execution_count": 4,
     "metadata": {},
     "output_type": "execute_result"
    }
   ],
   "source": [
    "import pandas as pd\n",
    "\n",
    "# Загружаем датасет\n",
    "salers = pd.read_csv(\"sales_data_large.csv\")\n",
    "# Верхнеуровнево исследуем набор данных\n",
    "# Посмотрим на несколько первых записей\n",
    "salers.head()"
   ]
  },
  {
   "cell_type": "code",
   "execution_count": 5,
   "id": "e1e23c2b-6d2a-43db-9555-f5d021560584",
   "metadata": {},
   "outputs": [
    {
     "data": {
      "text/plain": [
       "0      False\n",
       "1      False\n",
       "2      False\n",
       "3      False\n",
       "4      False\n",
       "       ...  \n",
       "495    False\n",
       "496    False\n",
       "497    False\n",
       "498    False\n",
       "499    False\n",
       "Length: 500, dtype: bool"
      ]
     },
     "execution_count": 5,
     "metadata": {},
     "output_type": "execute_result"
    }
   ],
   "source": [
    "# булев массив, показывающий наличие дублирующихся строк\n",
    "salers.duplicated()"
   ]
  },
  {
   "cell_type": "code",
   "execution_count": 6,
   "id": "533eef0d-2568-453e-9888-e09f52ac1011",
   "metadata": {},
   "outputs": [
    {
     "name": "stdout",
     "output_type": "stream",
     "text": [
      "<class 'pandas.core.frame.DataFrame'>\n",
      "RangeIndex: 500 entries, 0 to 499\n",
      "Data columns (total 4 columns):\n",
      " #   Column   Non-Null Count  Dtype \n",
      "---  ------   --------------  ----- \n",
      " 0   date     500 non-null    object\n",
      " 1   region   500 non-null    object\n",
      " 2   product  500 non-null    object\n",
      " 3   sales    500 non-null    int64 \n",
      "dtypes: int64(1), object(3)\n",
      "memory usage: 15.8+ KB\n"
     ]
    },
    {
     "data": {
      "text/plain": [
       "date       False\n",
       "region     False\n",
       "product    False\n",
       "sales      False\n",
       "dtype: bool"
      ]
     },
     "execution_count": 6,
     "metadata": {},
     "output_type": "execute_result"
    }
   ],
   "source": [
    "# Проверим в каких столбцах есть пустые значения\n",
    "salers.info()\n",
    "salers.isnull().any()"
   ]
  },
  {
   "cell_type": "code",
   "execution_count": 7,
   "id": "d301a82d-d2c9-4017-a9fd-5e19a23260ba",
   "metadata": {},
   "outputs": [
    {
     "data": {
      "text/plain": [
       "array(['West', 'South', 'East', 'North'], dtype=object)"
      ]
     },
     "execution_count": 7,
     "metadata": {},
     "output_type": "execute_result"
    }
   ],
   "source": [
    "# смотрим какие регионы и продукты присутствуют в данных.\n",
    "# уникальные значения и количество уникальных значений в столбце region\n",
    "salers['region'].unique()"
   ]
  },
  {
   "cell_type": "code",
   "execution_count": 8,
   "id": "b9ec835b-4865-4a1f-a106-ec5b89b184f7",
   "metadata": {},
   "outputs": [
    {
     "data": {
      "text/plain": [
       "4"
      ]
     },
     "execution_count": 8,
     "metadata": {},
     "output_type": "execute_result"
    }
   ],
   "source": [
    "salers['region'].nunique()"
   ]
  },
  {
   "cell_type": "code",
   "execution_count": 9,
   "id": "a10ba1f2-b686-4da7-959d-4cbf8bbd71e8",
   "metadata": {},
   "outputs": [
    {
     "data": {
      "text/plain": [
       "array(['Widget C', 'Widget B', 'Widget A'], dtype=object)"
      ]
     },
     "execution_count": 9,
     "metadata": {},
     "output_type": "execute_result"
    }
   ],
   "source": [
    "# уникальные значения и количество уникальных значений в столбце product\n",
    "salers['product'].unique()"
   ]
  },
  {
   "cell_type": "code",
   "execution_count": 10,
   "id": "f92cab16-888e-4137-bf4a-85bc3c3c2f1c",
   "metadata": {},
   "outputs": [
    {
     "data": {
      "text/plain": [
       "3"
      ]
     },
     "execution_count": 10,
     "metadata": {},
     "output_type": "execute_result"
    }
   ],
   "source": [
    "salers['product'].nunique()"
   ]
  },
  {
   "cell_type": "code",
   "execution_count": 11,
   "id": "c62a7404-f0db-4221-bd6c-583af59a99ea",
   "metadata": {},
   "outputs": [
    {
     "data": {
      "text/html": [
       "<div>\n",
       "<style scoped>\n",
       "    .dataframe tbody tr th:only-of-type {\n",
       "        vertical-align: middle;\n",
       "    }\n",
       "\n",
       "    .dataframe tbody tr th {\n",
       "        vertical-align: top;\n",
       "    }\n",
       "\n",
       "    .dataframe thead th {\n",
       "        text-align: right;\n",
       "    }\n",
       "</style>\n",
       "<table border=\"1\" class=\"dataframe\">\n",
       "  <thead>\n",
       "    <tr style=\"text-align: right;\">\n",
       "      <th></th>\n",
       "      <th>date</th>\n",
       "      <th>region</th>\n",
       "      <th>product</th>\n",
       "      <th>sales</th>\n",
       "    </tr>\n",
       "  </thead>\n",
       "  <tbody>\n",
       "    <tr>\n",
       "      <th>0</th>\n",
       "      <td>31</td>\n",
       "      <td>4</td>\n",
       "      <td>3</td>\n",
       "      <td>300</td>\n",
       "    </tr>\n",
       "  </tbody>\n",
       "</table>\n",
       "</div>"
      ],
      "text/plain": [
       "   date  region  product  sales\n",
       "0    31       4        3    300"
      ]
     },
     "execution_count": 11,
     "metadata": {},
     "output_type": "execute_result"
    }
   ],
   "source": [
    "# сводная таблица по уникальным значениям \n",
    "salers.nunique().to_frame().T"
   ]
  },
  {
   "cell_type": "code",
   "execution_count": 12,
   "id": "a9ba01ee-b031-4392-a13b-6db72ede56c6",
   "metadata": {},
   "outputs": [
    {
     "data": {
      "text/html": [
       "<div>\n",
       "<style scoped>\n",
       "    .dataframe tbody tr th:only-of-type {\n",
       "        vertical-align: middle;\n",
       "    }\n",
       "\n",
       "    .dataframe tbody tr th {\n",
       "        vertical-align: top;\n",
       "    }\n",
       "\n",
       "    .dataframe thead th {\n",
       "        text-align: right;\n",
       "    }\n",
       "</style>\n",
       "<table border=\"1\" class=\"dataframe\">\n",
       "  <thead>\n",
       "    <tr style=\"text-align: right;\">\n",
       "      <th></th>\n",
       "      <th>sum</th>\n",
       "      <th>mean</th>\n",
       "    </tr>\n",
       "    <tr>\n",
       "      <th>region</th>\n",
       "      <th></th>\n",
       "      <th></th>\n",
       "    </tr>\n",
       "  </thead>\n",
       "  <tbody>\n",
       "    <tr>\n",
       "      <th>East</th>\n",
       "      <td>29244</td>\n",
       "      <td>273.308411</td>\n",
       "    </tr>\n",
       "    <tr>\n",
       "      <th>North</th>\n",
       "      <td>39605</td>\n",
       "      <td>278.908451</td>\n",
       "    </tr>\n",
       "    <tr>\n",
       "      <th>South</th>\n",
       "      <td>33023</td>\n",
       "      <td>275.191667</td>\n",
       "    </tr>\n",
       "    <tr>\n",
       "      <th>West</th>\n",
       "      <td>35171</td>\n",
       "      <td>268.480916</td>\n",
       "    </tr>\n",
       "  </tbody>\n",
       "</table>\n",
       "</div>"
      ],
      "text/plain": [
       "          sum        mean\n",
       "region                   \n",
       "East    29244  273.308411\n",
       "North   39605  278.908451\n",
       "South   33023  275.191667\n",
       "West    35171  268.480916"
      ]
     },
     "execution_count": 12,
     "metadata": {},
     "output_type": "execute_result"
    }
   ],
   "source": [
    "# группируем продажи по регионам.\n",
    "salers.groupby('region')['sales'].agg(['sum', 'mean'])"
   ]
  },
  {
   "cell_type": "code",
   "execution_count": 13,
   "id": "2f5710d5-1b18-493d-8d8c-4fefc8e60de3",
   "metadata": {},
   "outputs": [
    {
     "data": {
      "text/html": [
       "<div>\n",
       "<style scoped>\n",
       "    .dataframe tbody tr th:only-of-type {\n",
       "        vertical-align: middle;\n",
       "    }\n",
       "\n",
       "    .dataframe tbody tr th {\n",
       "        vertical-align: top;\n",
       "    }\n",
       "\n",
       "    .dataframe thead th {\n",
       "        text-align: right;\n",
       "    }\n",
       "</style>\n",
       "<table border=\"1\" class=\"dataframe\">\n",
       "  <thead>\n",
       "    <tr style=\"text-align: right;\">\n",
       "      <th></th>\n",
       "      <th>sum</th>\n",
       "      <th>mean</th>\n",
       "    </tr>\n",
       "    <tr>\n",
       "      <th>product</th>\n",
       "      <th></th>\n",
       "      <th></th>\n",
       "    </tr>\n",
       "  </thead>\n",
       "  <tbody>\n",
       "    <tr>\n",
       "      <th>Widget A</th>\n",
       "      <td>45445</td>\n",
       "      <td>275.424242</td>\n",
       "    </tr>\n",
       "    <tr>\n",
       "      <th>Widget B</th>\n",
       "      <td>45348</td>\n",
       "      <td>268.331361</td>\n",
       "    </tr>\n",
       "    <tr>\n",
       "      <th>Widget C</th>\n",
       "      <td>46250</td>\n",
       "      <td>278.614458</td>\n",
       "    </tr>\n",
       "  </tbody>\n",
       "</table>\n",
       "</div>"
      ],
      "text/plain": [
       "            sum        mean\n",
       "product                    \n",
       "Widget A  45445  275.424242\n",
       "Widget B  45348  268.331361\n",
       "Widget C  46250  278.614458"
      ]
     },
     "execution_count": 13,
     "metadata": {},
     "output_type": "execute_result"
    }
   ],
   "source": [
    "# группируем продажи для каждого продукта.\n",
    "salers.groupby('product')['sales'].agg(['sum', 'mean'])"
   ]
  },
  {
   "cell_type": "code",
   "execution_count": 14,
   "id": "1c7aec1e-1aac-4c1b-b25a-fbf22a0c0027",
   "metadata": {},
   "outputs": [
    {
     "data": {
      "text/html": [
       "<div>\n",
       "<style scoped>\n",
       "    .dataframe tbody tr th:only-of-type {\n",
       "        vertical-align: middle;\n",
       "    }\n",
       "\n",
       "    .dataframe tbody tr th {\n",
       "        vertical-align: top;\n",
       "    }\n",
       "\n",
       "    .dataframe thead th {\n",
       "        text-align: right;\n",
       "    }\n",
       "</style>\n",
       "<table border=\"1\" class=\"dataframe\">\n",
       "  <thead>\n",
       "    <tr style=\"text-align: right;\">\n",
       "      <th></th>\n",
       "      <th></th>\n",
       "      <th>sum</th>\n",
       "      <th>mean</th>\n",
       "    </tr>\n",
       "    <tr>\n",
       "      <th>region</th>\n",
       "      <th>product</th>\n",
       "      <th></th>\n",
       "      <th></th>\n",
       "    </tr>\n",
       "  </thead>\n",
       "  <tbody>\n",
       "    <tr>\n",
       "      <th rowspan=\"3\" valign=\"top\">East</th>\n",
       "      <th>Widget A</th>\n",
       "      <td>8161</td>\n",
       "      <td>291.464286</td>\n",
       "    </tr>\n",
       "    <tr>\n",
       "      <th>Widget B</th>\n",
       "      <td>11314</td>\n",
       "      <td>263.116279</td>\n",
       "    </tr>\n",
       "    <tr>\n",
       "      <th>Widget C</th>\n",
       "      <td>9769</td>\n",
       "      <td>271.361111</td>\n",
       "    </tr>\n",
       "    <tr>\n",
       "      <th rowspan=\"3\" valign=\"top\">North</th>\n",
       "      <th>Widget A</th>\n",
       "      <td>13879</td>\n",
       "      <td>289.145833</td>\n",
       "    </tr>\n",
       "    <tr>\n",
       "      <th>Widget B</th>\n",
       "      <td>10493</td>\n",
       "      <td>238.477273</td>\n",
       "    </tr>\n",
       "    <tr>\n",
       "      <th>Widget C</th>\n",
       "      <td>15233</td>\n",
       "      <td>304.660000</td>\n",
       "    </tr>\n",
       "    <tr>\n",
       "      <th rowspan=\"3\" valign=\"top\">South</th>\n",
       "      <th>Widget A</th>\n",
       "      <td>11650</td>\n",
       "      <td>277.380952</td>\n",
       "    </tr>\n",
       "    <tr>\n",
       "      <th>Widget B</th>\n",
       "      <td>11879</td>\n",
       "      <td>282.833333</td>\n",
       "    </tr>\n",
       "    <tr>\n",
       "      <th>Widget C</th>\n",
       "      <td>9494</td>\n",
       "      <td>263.722222</td>\n",
       "    </tr>\n",
       "    <tr>\n",
       "      <th rowspan=\"3\" valign=\"top\">West</th>\n",
       "      <th>Widget A</th>\n",
       "      <td>11755</td>\n",
       "      <td>250.106383</td>\n",
       "    </tr>\n",
       "    <tr>\n",
       "      <th>Widget B</th>\n",
       "      <td>11662</td>\n",
       "      <td>291.550000</td>\n",
       "    </tr>\n",
       "    <tr>\n",
       "      <th>Widget C</th>\n",
       "      <td>11754</td>\n",
       "      <td>267.136364</td>\n",
       "    </tr>\n",
       "  </tbody>\n",
       "</table>\n",
       "</div>"
      ],
      "text/plain": [
       "                   sum        mean\n",
       "region product                    \n",
       "East   Widget A   8161  291.464286\n",
       "       Widget B  11314  263.116279\n",
       "       Widget C   9769  271.361111\n",
       "North  Widget A  13879  289.145833\n",
       "       Widget B  10493  238.477273\n",
       "       Widget C  15233  304.660000\n",
       "South  Widget A  11650  277.380952\n",
       "       Widget B  11879  282.833333\n",
       "       Widget C   9494  263.722222\n",
       "West   Widget A  11755  250.106383\n",
       "       Widget B  11662  291.550000\n",
       "       Widget C  11754  267.136364"
      ]
     },
     "execution_count": 14,
     "metadata": {},
     "output_type": "execute_result"
    }
   ],
   "source": [
    "# строим сводную таблицу, показывающую средние продажи по регионам и продуктам.\n",
    "salers.groupby(['region','product'])['sales'].agg(['sum', 'mean'])"
   ]
  },
  {
   "cell_type": "markdown",
   "id": "f108e04b-1508-45f9-9708-b2b3f9aa1d3a",
   "metadata": {},
   "source": [
    "Задание 3: Очистка данных и визуализация\n",
    "Цель: Проверить умение находить и исправлять ошибки в данных, а также визуализировать их.\n",
    "\n",
    "Данные: Используйте предоставленный CSV-файл (\"sales_cleaning_large.csv\"), содержащий данные о продажах с возможными пропущенными и некорректными значениями. Поля:\n",
    "\n",
    "date (дата продаж),\n",
    "sales (объем продаж),\n",
    "region (регион).\n",
    "Задание:\n",
    "\n",
    "Найдите и устраните ошибки в данных:\n",
    "Заполните пропущенные даты.\n",
    "Удалите отрицательные значения в столбце sales или замените их на медиану столбца.\n",
    "Заполните пропущенные значения в sales средним значением.\n",
    "Постройте график продаж по датам. Убедитесь, что даты упорядочены.\n",
    "Ожидаемый ответ:\n",
    "\n",
    "Обработанный DataFrame.\n",
    "Построенный график."
   ]
  },
  {
   "cell_type": "code",
   "execution_count": 16,
   "id": "63b7617f-5247-4000-9f54-14356bdb7766",
   "metadata": {},
   "outputs": [
    {
     "data": {
      "text/html": [
       "<div>\n",
       "<style scoped>\n",
       "    .dataframe tbody tr th:only-of-type {\n",
       "        vertical-align: middle;\n",
       "    }\n",
       "\n",
       "    .dataframe tbody tr th {\n",
       "        vertical-align: top;\n",
       "    }\n",
       "\n",
       "    .dataframe thead th {\n",
       "        text-align: right;\n",
       "    }\n",
       "</style>\n",
       "<table border=\"1\" class=\"dataframe\">\n",
       "  <thead>\n",
       "    <tr style=\"text-align: right;\">\n",
       "      <th></th>\n",
       "      <th>date</th>\n",
       "      <th>sales</th>\n",
       "      <th>region</th>\n",
       "    </tr>\n",
       "  </thead>\n",
       "  <tbody>\n",
       "    <tr>\n",
       "      <th>0</th>\n",
       "      <td>2024-12-01</td>\n",
       "      <td>-450.0</td>\n",
       "      <td>East</td>\n",
       "    </tr>\n",
       "    <tr>\n",
       "      <th>1</th>\n",
       "      <td>2024-12-01</td>\n",
       "      <td>400.0</td>\n",
       "      <td>East</td>\n",
       "    </tr>\n",
       "    <tr>\n",
       "      <th>2</th>\n",
       "      <td>2024-12-01</td>\n",
       "      <td>-100.0</td>\n",
       "      <td>South</td>\n",
       "    </tr>\n",
       "    <tr>\n",
       "      <th>3</th>\n",
       "      <td>2024-12-01</td>\n",
       "      <td>350.0</td>\n",
       "      <td>West</td>\n",
       "    </tr>\n",
       "    <tr>\n",
       "      <th>4</th>\n",
       "      <td>2024-12-02</td>\n",
       "      <td>400.0</td>\n",
       "      <td>South</td>\n",
       "    </tr>\n",
       "  </tbody>\n",
       "</table>\n",
       "</div>"
      ],
      "text/plain": [
       "         date  sales region\n",
       "0  2024-12-01 -450.0   East\n",
       "1  2024-12-01  400.0   East\n",
       "2  2024-12-01 -100.0  South\n",
       "3  2024-12-01  350.0   West\n",
       "4  2024-12-02  400.0  South"
      ]
     },
     "execution_count": 16,
     "metadata": {},
     "output_type": "execute_result"
    }
   ],
   "source": [
    "# Загружаем датасет\n",
    "salers = pd.read_csv(\"sales_cleaning_large.csv\")\n",
    "# Верхнеуровнево исследуем набор данных\n",
    "# Посмотрим на несколько первых записей\n",
    "salers.head()"
   ]
  },
  {
   "cell_type": "code",
   "execution_count": 17,
   "id": "ae120cda-3aaa-4357-939f-277f8bd2a4e4",
   "metadata": {},
   "outputs": [
    {
     "name": "stdout",
     "output_type": "stream",
     "text": [
      "<class 'pandas.core.frame.DataFrame'>\n",
      "RangeIndex: 200 entries, 0 to 199\n",
      "Data columns (total 3 columns):\n",
      " #   Column  Non-Null Count  Dtype  \n",
      "---  ------  --------------  -----  \n",
      " 0   date    190 non-null    object \n",
      " 1   sales   190 non-null    float64\n",
      " 2   region  200 non-null    object \n",
      "dtypes: float64(1), object(2)\n",
      "memory usage: 4.8+ KB\n"
     ]
    },
    {
     "data": {
      "text/plain": [
       "date       True\n",
       "sales      True\n",
       "region    False\n",
       "dtype: bool"
      ]
     },
     "execution_count": 17,
     "metadata": {},
     "output_type": "execute_result"
    }
   ],
   "source": [
    "# Проверим в каких столбцах есть пустые значения\n",
    "salers.info()\n",
    "salers.isnull().any()\n",
    "# есть пропуски в датах и продажах"
   ]
  },
  {
   "cell_type": "code",
   "execution_count": 18,
   "id": "54ee0fde-4770-48d3-8676-23093a1aa1c5",
   "metadata": {},
   "outputs": [],
   "source": [
    "salers['date'] = pd.to_datetime(salers['date'])"
   ]
  },
  {
   "cell_type": "code",
   "execution_count": 19,
   "id": "767b59dc-b4fe-4e55-bbb1-f180db2cddd1",
   "metadata": {},
   "outputs": [
    {
     "data": {
      "text/html": [
       "<div>\n",
       "<style scoped>\n",
       "    .dataframe tbody tr th:only-of-type {\n",
       "        vertical-align: middle;\n",
       "    }\n",
       "\n",
       "    .dataframe tbody tr th {\n",
       "        vertical-align: top;\n",
       "    }\n",
       "\n",
       "    .dataframe thead th {\n",
       "        text-align: right;\n",
       "    }\n",
       "</style>\n",
       "<table border=\"1\" class=\"dataframe\">\n",
       "  <thead>\n",
       "    <tr style=\"text-align: right;\">\n",
       "      <th></th>\n",
       "      <th>date</th>\n",
       "      <th>sales</th>\n",
       "      <th>region</th>\n",
       "    </tr>\n",
       "  </thead>\n",
       "  <tbody>\n",
       "    <tr>\n",
       "      <th>0</th>\n",
       "      <td>31</td>\n",
       "      <td>20</td>\n",
       "      <td>4</td>\n",
       "    </tr>\n",
       "  </tbody>\n",
       "</table>\n",
       "</div>"
      ],
      "text/plain": [
       "   date  sales  region\n",
       "0    31     20       4"
      ]
     },
     "execution_count": 19,
     "metadata": {},
     "output_type": "execute_result"
    }
   ],
   "source": [
    "# смотрим, сколько уникальных значений у нас есть \n",
    "salers.nunique().to_frame().T\n",
    "# датасет с продажами за 1 месяц, с пустыми 10 пропусками даты из 200 "
   ]
  },
  {
   "cell_type": "code",
   "execution_count": 20,
   "id": "89ca5442-1dd6-4bc5-80fb-85b9c839e6e7",
   "metadata": {},
   "outputs": [
    {
     "data": {
      "text/plain": [
       "date\n",
       "2024-12-01     4\n",
       "2024-12-02    10\n",
       "2024-12-03     5\n",
       "2024-12-04     7\n",
       "2024-12-05     6\n",
       "2024-12-06     6\n",
       "2024-12-07     6\n",
       "2024-12-08     7\n",
       "2024-12-09     6\n",
       "2024-12-10     6\n",
       "2024-12-11     7\n",
       "2024-12-12     5\n",
       "2024-12-13    12\n",
       "2024-12-14     5\n",
       "2024-12-15     8\n",
       "2024-12-16     5\n",
       "2024-12-17     6\n",
       "2024-12-18     6\n",
       "2024-12-19     5\n",
       "2024-12-20     4\n",
       "2024-12-21     2\n",
       "2024-12-22     5\n",
       "2024-12-23     3\n",
       "2024-12-24     5\n",
       "2024-12-25     4\n",
       "2024-12-26     6\n",
       "2024-12-27    11\n",
       "2024-12-28     9\n",
       "2024-12-29    10\n",
       "2024-12-30     4\n",
       "2024-12-31     5\n",
       "dtype: int64"
      ]
     },
     "execution_count": 20,
     "metadata": {},
     "output_type": "execute_result"
    }
   ],
   "source": [
    "salers.groupby('date').size() # / len(salers) * 100\n"
   ]
  },
  {
   "cell_type": "code",
   "execution_count": 21,
   "id": "4b4ade3e-45dd-45a2-9eab-3eba6f53f5f2",
   "metadata": {},
   "outputs": [
    {
     "data": {
      "text/html": [
       "<div>\n",
       "<style scoped>\n",
       "    .dataframe tbody tr th:only-of-type {\n",
       "        vertical-align: middle;\n",
       "    }\n",
       "\n",
       "    .dataframe tbody tr th {\n",
       "        vertical-align: top;\n",
       "    }\n",
       "\n",
       "    .dataframe thead th {\n",
       "        text-align: right;\n",
       "    }\n",
       "</style>\n",
       "<table border=\"1\" class=\"dataframe\">\n",
       "  <thead>\n",
       "    <tr style=\"text-align: right;\">\n",
       "      <th></th>\n",
       "      <th>date</th>\n",
       "      <th>sales</th>\n",
       "      <th>region</th>\n",
       "    </tr>\n",
       "  </thead>\n",
       "  <tbody>\n",
       "    <tr>\n",
       "      <th>15</th>\n",
       "      <td>2024-12-03</td>\n",
       "      <td>NaN</td>\n",
       "      <td>South</td>\n",
       "    </tr>\n",
       "    <tr>\n",
       "      <th>23</th>\n",
       "      <td>2024-12-04</td>\n",
       "      <td>NaN</td>\n",
       "      <td>South</td>\n",
       "    </tr>\n",
       "    <tr>\n",
       "      <th>33</th>\n",
       "      <td>2024-12-06</td>\n",
       "      <td>NaN</td>\n",
       "      <td>North</td>\n",
       "    </tr>\n",
       "    <tr>\n",
       "      <th>43</th>\n",
       "      <td>2024-12-07</td>\n",
       "      <td>NaN</td>\n",
       "      <td>East</td>\n",
       "    </tr>\n",
       "    <tr>\n",
       "      <th>83</th>\n",
       "      <td>2024-12-13</td>\n",
       "      <td>NaN</td>\n",
       "      <td>West</td>\n",
       "    </tr>\n",
       "    <tr>\n",
       "      <th>84</th>\n",
       "      <td>2024-12-13</td>\n",
       "      <td>NaN</td>\n",
       "      <td>West</td>\n",
       "    </tr>\n",
       "    <tr>\n",
       "      <th>92</th>\n",
       "      <td>2024-12-15</td>\n",
       "      <td>NaN</td>\n",
       "      <td>North</td>\n",
       "    </tr>\n",
       "    <tr>\n",
       "      <th>107</th>\n",
       "      <td>2024-12-17</td>\n",
       "      <td>NaN</td>\n",
       "      <td>North</td>\n",
       "    </tr>\n",
       "    <tr>\n",
       "      <th>112</th>\n",
       "      <td>2024-12-18</td>\n",
       "      <td>NaN</td>\n",
       "      <td>East</td>\n",
       "    </tr>\n",
       "    <tr>\n",
       "      <th>165</th>\n",
       "      <td>2024-12-28</td>\n",
       "      <td>NaN</td>\n",
       "      <td>West</td>\n",
       "    </tr>\n",
       "    <tr>\n",
       "      <th>190</th>\n",
       "      <td>NaT</td>\n",
       "      <td>150.0</td>\n",
       "      <td>South</td>\n",
       "    </tr>\n",
       "    <tr>\n",
       "      <th>191</th>\n",
       "      <td>NaT</td>\n",
       "      <td>-500.0</td>\n",
       "      <td>West</td>\n",
       "    </tr>\n",
       "    <tr>\n",
       "      <th>192</th>\n",
       "      <td>NaT</td>\n",
       "      <td>50.0</td>\n",
       "      <td>West</td>\n",
       "    </tr>\n",
       "    <tr>\n",
       "      <th>193</th>\n",
       "      <td>NaT</td>\n",
       "      <td>350.0</td>\n",
       "      <td>South</td>\n",
       "    </tr>\n",
       "    <tr>\n",
       "      <th>194</th>\n",
       "      <td>NaT</td>\n",
       "      <td>-350.0</td>\n",
       "      <td>South</td>\n",
       "    </tr>\n",
       "    <tr>\n",
       "      <th>195</th>\n",
       "      <td>NaT</td>\n",
       "      <td>400.0</td>\n",
       "      <td>West</td>\n",
       "    </tr>\n",
       "    <tr>\n",
       "      <th>196</th>\n",
       "      <td>NaT</td>\n",
       "      <td>-150.0</td>\n",
       "      <td>West</td>\n",
       "    </tr>\n",
       "    <tr>\n",
       "      <th>197</th>\n",
       "      <td>NaT</td>\n",
       "      <td>-500.0</td>\n",
       "      <td>South</td>\n",
       "    </tr>\n",
       "    <tr>\n",
       "      <th>198</th>\n",
       "      <td>NaT</td>\n",
       "      <td>-350.0</td>\n",
       "      <td>East</td>\n",
       "    </tr>\n",
       "    <tr>\n",
       "      <th>199</th>\n",
       "      <td>NaT</td>\n",
       "      <td>-50.0</td>\n",
       "      <td>North</td>\n",
       "    </tr>\n",
       "  </tbody>\n",
       "</table>\n",
       "</div>"
      ],
      "text/plain": [
       "          date  sales region\n",
       "15  2024-12-03    NaN  South\n",
       "23  2024-12-04    NaN  South\n",
       "33  2024-12-06    NaN  North\n",
       "43  2024-12-07    NaN   East\n",
       "83  2024-12-13    NaN   West\n",
       "84  2024-12-13    NaN   West\n",
       "92  2024-12-15    NaN  North\n",
       "107 2024-12-17    NaN  North\n",
       "112 2024-12-18    NaN   East\n",
       "165 2024-12-28    NaN   West\n",
       "190        NaT  150.0  South\n",
       "191        NaT -500.0   West\n",
       "192        NaT   50.0   West\n",
       "193        NaT  350.0  South\n",
       "194        NaT -350.0  South\n",
       "195        NaT  400.0   West\n",
       "196        NaT -150.0   West\n",
       "197        NaT -500.0  South\n",
       "198        NaT -350.0   East\n",
       "199        NaT  -50.0  North"
      ]
     },
     "metadata": {},
     "output_type": "display_data"
    }
   ],
   "source": [
    "# посмотрим распределение пропущенных данных по таблице\n",
    "filtered_df = salers[salers.isna().any(axis=1)]\n",
    "display(filtered_df)\n",
    "# все пропуски дат находятся в конце таблицы\n",
    "# пропуски по столбцу продаж распределены по всему датасету"
   ]
  },
  {
   "cell_type": "code",
   "execution_count": 22,
   "id": "250d5e48-d614-436b-9fa2-8b40b54279ec",
   "metadata": {},
   "outputs": [
    {
     "data": {
      "text/html": [
       "<div>\n",
       "<style scoped>\n",
       "    .dataframe tbody tr th:only-of-type {\n",
       "        vertical-align: middle;\n",
       "    }\n",
       "\n",
       "    .dataframe tbody tr th {\n",
       "        vertical-align: top;\n",
       "    }\n",
       "\n",
       "    .dataframe thead th {\n",
       "        text-align: right;\n",
       "    }\n",
       "</style>\n",
       "<table border=\"1\" class=\"dataframe\">\n",
       "  <thead>\n",
       "    <tr style=\"text-align: right;\">\n",
       "      <th></th>\n",
       "      <th>date</th>\n",
       "      <th>sales</th>\n",
       "      <th>region</th>\n",
       "    </tr>\n",
       "  </thead>\n",
       "  <tbody>\n",
       "    <tr>\n",
       "      <th>191</th>\n",
       "      <td>NaT</td>\n",
       "      <td>-500.0</td>\n",
       "      <td>West</td>\n",
       "    </tr>\n",
       "    <tr>\n",
       "      <th>194</th>\n",
       "      <td>NaT</td>\n",
       "      <td>-350.0</td>\n",
       "      <td>South</td>\n",
       "    </tr>\n",
       "    <tr>\n",
       "      <th>196</th>\n",
       "      <td>NaT</td>\n",
       "      <td>-150.0</td>\n",
       "      <td>West</td>\n",
       "    </tr>\n",
       "    <tr>\n",
       "      <th>197</th>\n",
       "      <td>NaT</td>\n",
       "      <td>-500.0</td>\n",
       "      <td>South</td>\n",
       "    </tr>\n",
       "    <tr>\n",
       "      <th>198</th>\n",
       "      <td>NaT</td>\n",
       "      <td>-350.0</td>\n",
       "      <td>East</td>\n",
       "    </tr>\n",
       "    <tr>\n",
       "      <th>199</th>\n",
       "      <td>NaT</td>\n",
       "      <td>-50.0</td>\n",
       "      <td>North</td>\n",
       "    </tr>\n",
       "  </tbody>\n",
       "</table>\n",
       "</div>"
      ],
      "text/plain": [
       "    date  sales region\n",
       "191  NaT -500.0   West\n",
       "194  NaT -350.0  South\n",
       "196  NaT -150.0   West\n",
       "197  NaT -500.0  South\n",
       "198  NaT -350.0   East\n",
       "199  NaT  -50.0  North"
      ]
     },
     "metadata": {},
     "output_type": "display_data"
    },
    {
     "name": "stdout",
     "output_type": "stream",
     "text": [
      "Index([191, 194, 196, 197, 198, 199], dtype='int64')\n"
     ]
    }
   ],
   "source": [
    "# в датасете присутствуют данные с паропущенными датами и отрицательными продажами. \n",
    "# По условиям задачи строки с отрицательными продажами можно удалить (или заменить на медиану)\n",
    "# Имеет смысл удалить строки с пропусками дат и отрицательными значениями (2 из 3 значений неревалентны), \n",
    "# данные в этих строках моджно считать недостоверными этих строках неревалентны \n",
    "filtered_df = salers.loc[(salers['date'].isna()) & (salers['sales'] < 0)]\n",
    "display(filtered_df)\n",
    "idx = filtered_df.index\n",
    "print(idx) # индексы строк для удаления"
   ]
  },
  {
   "cell_type": "code",
   "execution_count": 23,
   "id": "36c1b368-ff36-4db6-a1a3-e8dc31831a5d",
   "metadata": {},
   "outputs": [
    {
     "data": {
      "text/plain": [
       "(194, 3)"
      ]
     },
     "execution_count": 23,
     "metadata": {},
     "output_type": "execute_result"
    }
   ],
   "source": [
    "cleaned_df = salers.drop(idx)\n",
    "cleaned_df.shape"
   ]
  },
  {
   "cell_type": "code",
   "execution_count": 24,
   "id": "c3e7d9cf-7b7c-43cd-8359-88f302313e79",
   "metadata": {},
   "outputs": [
    {
     "name": "stdout",
     "output_type": "stream",
     "text": [
      "<class 'pandas.core.frame.DataFrame'>\n",
      "Index: 194 entries, 0 to 195\n",
      "Data columns (total 3 columns):\n",
      " #   Column  Non-Null Count  Dtype         \n",
      "---  ------  --------------  -----         \n",
      " 0   date    194 non-null    datetime64[ns]\n",
      " 1   sales   184 non-null    float64       \n",
      " 2   region  194 non-null    object        \n",
      "dtypes: datetime64[ns](1), float64(1), object(1)\n",
      "memory usage: 6.1+ KB\n"
     ]
    }
   ],
   "source": [
    "# остальные отсутствующие даты заполняем случайным образом из диапазщано дат датафрейма\n",
    "date_range = pd.date_range(start=str(cleaned_df['date'].min()), end=str(cleaned_df['date'].max()))\n",
    "# заменяем пустые знгачения на случайні из диапазона дат\n",
    "cleaned_df['date'] = cleaned_df['date'].apply(lambda x: np.random.choice(date_range) if pd.isnull(x) else x)\n",
    "cleaned_df.info()"
   ]
  },
  {
   "cell_type": "code",
   "execution_count": 25,
   "id": "09c37c50-c845-411e-bb92-8753ece4cec4",
   "metadata": {},
   "outputs": [
    {
     "data": {
      "text/plain": [
       "(83, 3)"
      ]
     },
     "execution_count": 25,
     "metadata": {},
     "output_type": "execute_result"
    }
   ],
   "source": [
    "cleaned_df.loc[cleaned_df['sales'] < 0].shape\n",
    "# B датафрейме 83 строки с отрицательным значением столбца sales"
   ]
  },
  {
   "cell_type": "code",
   "execution_count": 26,
   "id": "38375f1e-282b-471e-8a2a-b6bb7d3f5e50",
   "metadata": {},
   "outputs": [
    {
     "name": "stdout",
     "output_type": "stream",
     "text": [
      "медиана столбца sales - 200.0\n"
     ]
    },
    {
     "data": {
      "text/plain": [
       "(184, 3)"
      ]
     },
     "execution_count": 26,
     "metadata": {},
     "output_type": "execute_result"
    }
   ],
   "source": [
    "# считаем медиану без учета отрицательных значений, но с учетом нулевых.\n",
    "median_value =  cleaned_df.loc[cleaned_df['sales'] >= 0]['sales'].median() # skipna bool, по умолчанию True - Исключить значения NA/null при вычислении результата.\n",
    "print(f'медиана столбца sales - {median_value}')\n",
    "cleaned_df['sales'] = cleaned_df['sales'].apply(lambda x: median_value if x < 0 else x)\n",
    "# проверяем, что отрицательных значений нет\n",
    "cleaned_df.loc[cleaned_df['sales'] >= 0].shape"
   ]
  },
  {
   "cell_type": "code",
   "execution_count": 27,
   "id": "f477cf93-4d48-4cf9-b25e-3643752baa66",
   "metadata": {},
   "outputs": [
    {
     "name": "stdout",
     "output_type": "stream",
     "text": [
      "среднее значение столбца sales - 214.4\n"
     ]
    }
   ],
   "source": [
    "#считаем среднее значение и заполняем пустые\n",
    "mean_value = cleaned_df['sales'].mean()\n",
    "print(f'среднее значение столбца sales - {round(mean_value,1)}')\n",
    "cleaned_df['sales'] = cleaned_df['sales'].fillna(median_value)"
   ]
  },
  {
   "cell_type": "code",
   "execution_count": 28,
   "id": "e561dfbd-2786-4844-9c66-cf2be3ba03e7",
   "metadata": {},
   "outputs": [
    {
     "name": "stdout",
     "output_type": "stream",
     "text": [
      "<class 'pandas.core.frame.DataFrame'>\n",
      "Index: 194 entries, 0 to 195\n",
      "Data columns (total 3 columns):\n",
      " #   Column  Non-Null Count  Dtype         \n",
      "---  ------  --------------  -----         \n",
      " 0   date    194 non-null    datetime64[ns]\n",
      " 1   sales   194 non-null    float64       \n",
      " 2   region  194 non-null    object        \n",
      "dtypes: datetime64[ns](1), float64(1), object(1)\n",
      "memory usage: 6.1+ KB\n"
     ]
    }
   ],
   "source": [
    "cleaned_df.info()"
   ]
  },
  {
   "cell_type": "code",
   "execution_count": 29,
   "id": "b28bb981-b50e-4e01-86e4-b6938d976fb5",
   "metadata": {},
   "outputs": [
    {
     "data": {
      "text/plain": [
       "0     2024-12-01\n",
       "1     2024-12-01\n",
       "2     2024-12-01\n",
       "3     2024-12-01\n",
       "4     2024-12-02\n",
       "         ...    \n",
       "186   2024-12-31\n",
       "187   2024-12-31\n",
       "188   2024-12-31\n",
       "189   2024-12-31\n",
       "195   2024-12-31\n",
       "Name: date, Length: 194, dtype: datetime64[ns]"
      ]
     },
     "execution_count": 29,
     "metadata": {},
     "output_type": "execute_result"
    }
   ],
   "source": [
    "# сортируем по дате\n",
    "cleaned_df = cleaned_df.sort_values(by='date')\n",
    "cleaned_df['date']"
   ]
  },
  {
   "cell_type": "code",
   "execution_count": 30,
   "id": "1ec8a619-34b2-45dc-82e1-25dd1fd491cf",
   "metadata": {},
   "outputs": [
    {
     "data": {
      "text/html": [
       "<div>\n",
       "<style scoped>\n",
       "    .dataframe tbody tr th:only-of-type {\n",
       "        vertical-align: middle;\n",
       "    }\n",
       "\n",
       "    .dataframe tbody tr th {\n",
       "        vertical-align: top;\n",
       "    }\n",
       "\n",
       "    .dataframe thead th {\n",
       "        text-align: right;\n",
       "    }\n",
       "</style>\n",
       "<table border=\"1\" class=\"dataframe\">\n",
       "  <thead>\n",
       "    <tr style=\"text-align: right;\">\n",
       "      <th></th>\n",
       "      <th>date</th>\n",
       "      <th>sales</th>\n",
       "    </tr>\n",
       "  </thead>\n",
       "  <tbody>\n",
       "    <tr>\n",
       "      <th>count</th>\n",
       "      <td>194</td>\n",
       "      <td>194.000000</td>\n",
       "    </tr>\n",
       "    <tr>\n",
       "      <th>mean</th>\n",
       "      <td>2024-12-15 22:16:04.948453632</td>\n",
       "      <td>213.659794</td>\n",
       "    </tr>\n",
       "    <tr>\n",
       "      <th>min</th>\n",
       "      <td>2024-12-01 00:00:00</td>\n",
       "      <td>0.000000</td>\n",
       "    </tr>\n",
       "    <tr>\n",
       "      <th>25%</th>\n",
       "      <td>2024-12-08 00:00:00</td>\n",
       "      <td>200.000000</td>\n",
       "    </tr>\n",
       "    <tr>\n",
       "      <th>50%</th>\n",
       "      <td>2024-12-15 00:00:00</td>\n",
       "      <td>200.000000</td>\n",
       "    </tr>\n",
       "    <tr>\n",
       "      <th>75%</th>\n",
       "      <td>2024-12-25 00:00:00</td>\n",
       "      <td>200.000000</td>\n",
       "    </tr>\n",
       "    <tr>\n",
       "      <th>max</th>\n",
       "      <td>2024-12-31 00:00:00</td>\n",
       "      <td>450.000000</td>\n",
       "    </tr>\n",
       "    <tr>\n",
       "      <th>std</th>\n",
       "      <td>NaN</td>\n",
       "      <td>104.591521</td>\n",
       "    </tr>\n",
       "  </tbody>\n",
       "</table>\n",
       "</div>"
      ],
      "text/plain": [
       "                                date       sales\n",
       "count                            194  194.000000\n",
       "mean   2024-12-15 22:16:04.948453632  213.659794\n",
       "min              2024-12-01 00:00:00    0.000000\n",
       "25%              2024-12-08 00:00:00  200.000000\n",
       "50%              2024-12-15 00:00:00  200.000000\n",
       "75%              2024-12-25 00:00:00  200.000000\n",
       "max              2024-12-31 00:00:00  450.000000\n",
       "std                              NaN  104.591521"
      ]
     },
     "execution_count": 30,
     "metadata": {},
     "output_type": "execute_result"
    }
   ],
   "source": [
    "cleaned_df.describe()"
   ]
  },
  {
   "cell_type": "code",
   "execution_count": 31,
   "id": "46bac93a-1d53-44f6-8102-810846b79951",
   "metadata": {},
   "outputs": [
    {
     "data": {
      "text/html": [
       "<div>\n",
       "<style scoped>\n",
       "    .dataframe tbody tr th:only-of-type {\n",
       "        vertical-align: middle;\n",
       "    }\n",
       "\n",
       "    .dataframe tbody tr th {\n",
       "        vertical-align: top;\n",
       "    }\n",
       "\n",
       "    .dataframe thead th {\n",
       "        text-align: right;\n",
       "    }\n",
       "</style>\n",
       "<table border=\"1\" class=\"dataframe\">\n",
       "  <thead>\n",
       "    <tr style=\"text-align: right;\">\n",
       "      <th></th>\n",
       "      <th>date</th>\n",
       "      <th>sum</th>\n",
       "      <th>mean</th>\n",
       "      <th>max</th>\n",
       "      <th>min</th>\n",
       "    </tr>\n",
       "  </thead>\n",
       "  <tbody>\n",
       "    <tr>\n",
       "      <th>0</th>\n",
       "      <td>2024-12-01</td>\n",
       "      <td>1150.0</td>\n",
       "      <td>287.500000</td>\n",
       "      <td>400.0</td>\n",
       "      <td>200.0</td>\n",
       "    </tr>\n",
       "    <tr>\n",
       "      <th>1</th>\n",
       "      <td>2024-12-02</td>\n",
       "      <td>2100.0</td>\n",
       "      <td>210.000000</td>\n",
       "      <td>400.0</td>\n",
       "      <td>50.0</td>\n",
       "    </tr>\n",
       "    <tr>\n",
       "      <th>2</th>\n",
       "      <td>2024-12-03</td>\n",
       "      <td>750.0</td>\n",
       "      <td>150.000000</td>\n",
       "      <td>200.0</td>\n",
       "      <td>50.0</td>\n",
       "    </tr>\n",
       "    <tr>\n",
       "      <th>3</th>\n",
       "      <td>2024-12-04</td>\n",
       "      <td>1150.0</td>\n",
       "      <td>164.285714</td>\n",
       "      <td>400.0</td>\n",
       "      <td>0.0</td>\n",
       "    </tr>\n",
       "    <tr>\n",
       "      <th>4</th>\n",
       "      <td>2024-12-05</td>\n",
       "      <td>1400.0</td>\n",
       "      <td>233.333333</td>\n",
       "      <td>350.0</td>\n",
       "      <td>200.0</td>\n",
       "    </tr>\n",
       "  </tbody>\n",
       "</table>\n",
       "</div>"
      ],
      "text/plain": [
       "        date     sum        mean    max    min\n",
       "0 2024-12-01  1150.0  287.500000  400.0  200.0\n",
       "1 2024-12-02  2100.0  210.000000  400.0   50.0\n",
       "2 2024-12-03   750.0  150.000000  200.0   50.0\n",
       "3 2024-12-04  1150.0  164.285714  400.0    0.0\n",
       "4 2024-12-05  1400.0  233.333333  350.0  200.0"
      ]
     },
     "execution_count": 31,
     "metadata": {},
     "output_type": "execute_result"
    }
   ],
   "source": [
    "# создаем датафрайм со значениями 'sum', 'mean', 'max', 'min' по продажам\n",
    "df_agg = cleaned_df.groupby('date')['sales'].agg(['sum', 'mean', 'max', 'min'])\n",
    "index = pd.date_range(\"2024-12-01\", periods=31, freq='D')\n",
    "\n",
    "df_agg = pd.DataFrame(df_agg, index=index)\n",
    "# Добавление столбца с датами\n",
    "df_agg = df_agg.reset_index().rename(columns={'index': 'date'})\n",
    "df_agg.head()"
   ]
  },
  {
   "cell_type": "code",
   "execution_count": 32,
   "id": "4106dbd1-b523-4dd0-8f52-bcde402e47f9",
   "metadata": {},
   "outputs": [
    {
     "data": {
      "image/png": "[encoded data removed]",
      "text/plain": [
       "<Figure size 1000x600 with 1 Axes>"
      ]
     },
     "metadata": {},
     "output_type": "display_data"
    }
   ],
   "source": [
    "# График \n",
    "plt.figure(figsize=(10, 6))\n",
    "plt.bar(df_agg['date'], df_agg['sum'], color='lightgreen')\n",
    "plt.title('График суммарных продаж по всем регионам за день', fontsize=16)\n",
    "plt.xlabel('Дата', fontsize=12)\n",
    "plt.ylabel('Продажи', fontsize=12)\n",
    "plt.xticks(cleaned_df['date'], rotation=45)  \n",
    "plt.grid(axis='y', alpha=0.5) \n",
    "plt.tight_layout()\n",
    "plt.show()\n",
    "# аналогично можно построить грифик максимальных, минимальных и средних продаж по всем регионам в день"
   ]
  },
  {
   "cell_type": "markdown",
   "id": "8f55cbd3-ff56-416e-9779-bd513a162ad6",
   "metadata": {},
   "source": [
    "Задание 4: Получение данных из API\n",
    "Цель: Проверить способность работать с веб-данными.\n",
    "\n",
    "Задание:\n",
    "\n",
    "Используйте открытое API (например, https://jsonplaceholder.typicode.com/users).\n",
    "Загрузите данные и создайте DataFrame с полями: id, name, email, company_name.\n",
    "Выведите таблицу с пользователями, работающими в компаниях, название которых содержит слово \"Group\"."
   ]
  },
  {
   "cell_type": "code",
   "execution_count": 34,
   "id": "56bc1dc5-064c-4570-9e7e-113adb979ce6",
   "metadata": {},
   "outputs": [
    {
     "data": {
      "text/html": [
       "<div>\n",
       "<style scoped>\n",
       "    .dataframe tbody tr th:only-of-type {\n",
       "        vertical-align: middle;\n",
       "    }\n",
       "\n",
       "    .dataframe tbody tr th {\n",
       "        vertical-align: top;\n",
       "    }\n",
       "\n",
       "    .dataframe thead th {\n",
       "        text-align: right;\n",
       "    }\n",
       "</style>\n",
       "<table border=\"1\" class=\"dataframe\">\n",
       "  <thead>\n",
       "    <tr style=\"text-align: right;\">\n",
       "      <th></th>\n",
       "      <th>id</th>\n",
       "      <th>name</th>\n",
       "      <th>username</th>\n",
       "      <th>email</th>\n",
       "      <th>address</th>\n",
       "      <th>phone</th>\n",
       "      <th>website</th>\n",
       "      <th>company</th>\n",
       "    </tr>\n",
       "  </thead>\n",
       "  <tbody>\n",
       "    <tr>\n",
       "      <th>0</th>\n",
       "      <td>1</td>\n",
       "      <td>Leanne Graham</td>\n",
       "      <td>Bret</td>\n",
       "      <td>Sincere@april.biz</td>\n",
       "      <td>{'street': 'Kulas Light', 'suite': 'Apt. 556',...</td>\n",
       "      <td>1-770-736-8031 x56442</td>\n",
       "      <td>hildegard.org</td>\n",
       "      <td>{'name': 'Romaguera-Crona', 'catchPhrase': 'Mu...</td>\n",
       "    </tr>\n",
       "    <tr>\n",
       "      <th>1</th>\n",
       "      <td>2</td>\n",
       "      <td>Ervin Howell</td>\n",
       "      <td>Antonette</td>\n",
       "      <td>Shanna@melissa.tv</td>\n",
       "      <td>{'street': 'Victor Plains', 'suite': 'Suite 87...</td>\n",
       "      <td>010-692-6593 x09125</td>\n",
       "      <td>anastasia.net</td>\n",
       "      <td>{'name': 'Deckow-Crist', 'catchPhrase': 'Proac...</td>\n",
       "    </tr>\n",
       "    <tr>\n",
       "      <th>2</th>\n",
       "      <td>3</td>\n",
       "      <td>Clementine Bauch</td>\n",
       "      <td>Samantha</td>\n",
       "      <td>Nathan@yesenia.net</td>\n",
       "      <td>{'street': 'Douglas Extension', 'suite': 'Suit...</td>\n",
       "      <td>1-463-123-4447</td>\n",
       "      <td>ramiro.info</td>\n",
       "      <td>{'name': 'Romaguera-Jacobson', 'catchPhrase': ...</td>\n",
       "    </tr>\n",
       "    <tr>\n",
       "      <th>3</th>\n",
       "      <td>4</td>\n",
       "      <td>Patricia Lebsack</td>\n",
       "      <td>Karianne</td>\n",
       "      <td>Julianne.OConner@kory.org</td>\n",
       "      <td>{'street': 'Hoeger Mall', 'suite': 'Apt. 692',...</td>\n",
       "      <td>493-170-9623 x156</td>\n",
       "      <td>kale.biz</td>\n",
       "      <td>{'name': 'Robel-Corkery', 'catchPhrase': 'Mult...</td>\n",
       "    </tr>\n",
       "    <tr>\n",
       "      <th>4</th>\n",
       "      <td>5</td>\n",
       "      <td>Chelsey Dietrich</td>\n",
       "      <td>Kamren</td>\n",
       "      <td>Lucio_Hettinger@annie.ca</td>\n",
       "      <td>{'street': 'Skiles Walks', 'suite': 'Suite 351...</td>\n",
       "      <td>(254)954-1289</td>\n",
       "      <td>demarco.info</td>\n",
       "      <td>{'name': 'Keebler LLC', 'catchPhrase': 'User-c...</td>\n",
       "    </tr>\n",
       "  </tbody>\n",
       "</table>\n",
       "</div>"
      ],
      "text/plain": [
       "   id              name   username                      email  \\\n",
       "0   1     Leanne Graham       Bret          Sincere@april.biz   \n",
       "1   2      Ervin Howell  Antonette          Shanna@melissa.tv   \n",
       "2   3  Clementine Bauch   Samantha         Nathan@yesenia.net   \n",
       "3   4  Patricia Lebsack   Karianne  Julianne.OConner@kory.org   \n",
       "4   5  Chelsey Dietrich     Kamren   Lucio_Hettinger@annie.ca   \n",
       "\n",
       "                                             address                  phone  \\\n",
       "0  {'street': 'Kulas Light', 'suite': 'Apt. 556',...  1-770-736-8031 x56442   \n",
       "1  {'street': 'Victor Plains', 'suite': 'Suite 87...    010-692-6593 x09125   \n",
       "2  {'street': 'Douglas Extension', 'suite': 'Suit...         1-463-123-4447   \n",
       "3  {'street': 'Hoeger Mall', 'suite': 'Apt. 692',...      493-170-9623 x156   \n",
       "4  {'street': 'Skiles Walks', 'suite': 'Suite 351...          (254)954-1289   \n",
       "\n",
       "         website                                            company  \n",
       "0  hildegard.org  {'name': 'Romaguera-Crona', 'catchPhrase': 'Mu...  \n",
       "1  anastasia.net  {'name': 'Deckow-Crist', 'catchPhrase': 'Proac...  \n",
       "2    ramiro.info  {'name': 'Romaguera-Jacobson', 'catchPhrase': ...  \n",
       "3       kale.biz  {'name': 'Robel-Corkery', 'catchPhrase': 'Mult...  \n",
       "4   demarco.info  {'name': 'Keebler LLC', 'catchPhrase': 'User-c...  "
      ]
     },
     "execution_count": 34,
     "metadata": {},
     "output_type": "execute_result"
    }
   ],
   "source": [
    "import requests\n",
    "# Загружаем данные\n",
    "url = \"https://jsonplaceholder.typicode.com/users\"\n",
    "\n",
    "response = requests.get(url)\n",
    "data = response.json()\n",
    "df = pd.DataFrame(data)\n",
    "df.head()"
   ]
  },
  {
   "cell_type": "code",
   "execution_count": 35,
   "id": "f3b33598-8852-40c1-a119-2df38e7cb934",
   "metadata": {},
   "outputs": [
    {
     "name": "stdout",
     "output_type": "stream",
     "text": [
      "<class 'pandas.core.frame.DataFrame'>\n",
      "RangeIndex: 10 entries, 0 to 9\n",
      "Data columns (total 8 columns):\n",
      " #   Column    Non-Null Count  Dtype \n",
      "---  ------    --------------  ----- \n",
      " 0   id        10 non-null     int64 \n",
      " 1   name      10 non-null     object\n",
      " 2   username  10 non-null     object\n",
      " 3   email     10 non-null     object\n",
      " 4   address   10 non-null     object\n",
      " 5   phone     10 non-null     object\n",
      " 6   website   10 non-null     object\n",
      " 7   company   10 non-null     object\n",
      "dtypes: int64(1), object(7)\n",
      "memory usage: 772.0+ bytes\n"
     ]
    }
   ],
   "source": [
    "df.info()"
   ]
  },
  {
   "cell_type": "code",
   "execution_count": 36,
   "id": "1d28f8de-478d-4992-87ec-dd6f6e11dce3",
   "metadata": {
    "scrolled": true
   },
   "outputs": [
    {
     "data": {
      "text/html": [
       "<div>\n",
       "<style scoped>\n",
       "    .dataframe tbody tr th:only-of-type {\n",
       "        vertical-align: middle;\n",
       "    }\n",
       "\n",
       "    .dataframe tbody tr th {\n",
       "        vertical-align: top;\n",
       "    }\n",
       "\n",
       "    .dataframe thead th {\n",
       "        text-align: right;\n",
       "    }\n",
       "</style>\n",
       "<table border=\"1\" class=\"dataframe\">\n",
       "  <thead>\n",
       "    <tr style=\"text-align: right;\">\n",
       "      <th></th>\n",
       "      <th>id</th>\n",
       "      <th>name</th>\n",
       "      <th>email</th>\n",
       "      <th>company_name</th>\n",
       "    </tr>\n",
       "  </thead>\n",
       "  <tbody>\n",
       "    <tr>\n",
       "      <th>6</th>\n",
       "      <td>7</td>\n",
       "      <td>Kurtis Weissnat</td>\n",
       "      <td>Telly.Hoeger@billy.biz</td>\n",
       "      <td>Johns Group</td>\n",
       "    </tr>\n",
       "    <tr>\n",
       "      <th>7</th>\n",
       "      <td>8</td>\n",
       "      <td>Nicholas Runolfsdottir V</td>\n",
       "      <td>Sherwood@rosamond.me</td>\n",
       "      <td>Abernathy Group</td>\n",
       "    </tr>\n",
       "  </tbody>\n",
       "</table>\n",
       "</div>"
      ],
      "text/plain": [
       "   id                      name                   email     company_name\n",
       "6   7           Kurtis Weissnat  Telly.Hoeger@billy.biz      Johns Group\n",
       "7   8  Nicholas Runolfsdottir V    Sherwood@rosamond.me  Abernathy Group"
      ]
     },
     "execution_count": 36,
     "metadata": {},
     "output_type": "execute_result"
    }
   ],
   "source": [
    "# Формируем новый Dataframe \n",
    "\n",
    "df['company_name'] = df['company'].apply(lambda x: x['name'])    # новый столец c именем команий   \n",
    "df_neue = df[['id', 'name', 'email', 'company_name']]            # отбираем нужные столбцы в новый датафрейм\n",
    "df_neue[df_neue['company_name'].str.contains(\"Group\", case=False, na=False)]      # Фильтр: столбец \"company name\"  содержит \"Group\""
   ]
  },
  {
   "cell_type": "code",
   "execution_count": null,
   "id": "da6256d1-e112-4029-8055-d5f18a41d3c0",
   "metadata": {},
   "outputs": [],
   "source": []
  },
  {
   "cell_type": "code",
   "execution_count": null,
   "id": "8b478d4b-5b88-441b-b6c2-bdf33e46caf1",
   "metadata": {},
   "outputs": [],
   "source": []
  }
 ],
 "metadata": {
  "kernelspec": {
   "display_name": "Python [conda env:base] *",
   "language": "python",
   "name": "conda-base-py"
  },
  "language_info": {
   "codemirror_mode": {
    "name": "ipython",
    "version": 3
   },
   "file_extension": ".py",
   "mimetype": "text/x-python",
   "name": "python",
   "nbconvert_exporter": "python",
   "pygments_lexer": "ipython3",
   "version": "3.12.7"
  }
 },
 "nbformat": 4,
 "nbformat_minor": 5
}
