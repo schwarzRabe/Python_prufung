{
 "cells": [
  {
   "cell_type": "markdown",
   "id": "d75adde8-21ce-4503-879e-28cd1d68632a",
   "metadata": {},
   "source": [
    "Задание 1 \n",
    "Обратный порядок слов в блоках текста \n",
    "Дан текстовый файл, каждое предложение которого занимает одну строку. \n",
    "Напишите программу, которая разделяет текст на блоки — каждый блок состоит из нескольких предложений. \n",
    "Затем переворачивает порядок слов только внутри каждого предложения, не меняя порядок самих предложений в блоке.\n",
    "\n",
    "Файл содержит:\n",
    "\n",
    "Привет как дела \n",
    "На улице идет дождь \n",
    "Я люблю программирование"
   ]
  },
  {
   "cell_type": "code",
   "execution_count": 2,
   "id": "54234a8b-2dbc-4b68-936b-eed8f0faff24",
   "metadata": {},
   "outputs": [
    {
     "name": "stdout",
     "output_type": "stream",
     "text": [
      "['Привет как дела', 'На улице идет дождь', 'Я люблю программирование', 'Текст разделен на блоки корректно', 'Инструкция по выполнению']\n",
      "['дела как Привет', 'дождь идет улице На', 'программирование люблю Я', 'корректно блоки на разделен Текст', 'выполнению по Инструкция']\n",
      "['дела как Привет дождь идет улице На', 'программирование люблю Я корректно блоки на разделен Текст', 'выполнению по Инструкция']\n",
      "Результат записан в файл output.txt\n"
     ]
    }
   ],
   "source": [
    "input_filename = 'das_Beispiel.txt'  # Имя исходного файла\n",
    "output_filename = 'output.txt'  # Имя файла для записи результата\n",
    "block_size = 2  # Количество предложений в блоке\n",
    "\n",
    "# Чтение строк из файла и запись их в массив\n",
    "with open(input_filename, 'r', encoding='utf-8') as file:\n",
    "    lines = file.read().splitlines()  # Массив строк из файла\n",
    "print (lines)\n",
    "reversed_lines = []\n",
    "for item in lines:\n",
    "    words = item.split()\n",
    "    reversed_lines.append(' '.join(words[::-1]))  # массив строк с перевернутым порядком слов \n",
    "print(reversed_lines)    \n",
    "\n",
    "# функция разделения на блоки и записи блоков в новый файл\n",
    "def in_block_aufteilen(lines, parts):\n",
    "    if parts >= len(lines):\n",
    "        return (f'Файл нельзя разделить')\n",
    "    else:\n",
    "        # Записываем результат в текстовый файл\n",
    "        with open(output_filename, 'w', encoding='utf-8') as file:\n",
    "            blocks = [lines[i:i + block_size] for i in range(0, len(lines), block_size)] # Разделяем на блоки\n",
    "            lines = []    # составляем новый список из блоков\n",
    "            for item in blocks:\n",
    "                lines.append(' '.join(item))\n",
    "            print(lines)\n",
    "            file.write('\\n'.join(lines))\n",
    "            print(f\"Результат записан в файл {output_filename}\")\n",
    "# Вызываем функцию с задвнными параметрами иям файла и количество предложений в блоке\n",
    "in_block_aufteilen(reversed_lines, block_size)      \n"
   ]
  },
  {
   "cell_type": "markdown",
   "id": "95abc08f-a9a5-4351-ab9e-35118d63cf87",
   "metadata": {},
   "source": [
    "Задание 2\n",
    "Напишите функцию, которая принимает строку и сжимает её определённым образом. Строки содержат произвольные символы, включая пробелы и спецсимволы, и требуют точного учета длины при кодировании. Сжатие строки происходит сериями одинаковых символов в формате символ = количество + количество, но только если длина сжатой строки не превышает исходную.\n",
    "\n",
    "Примеры:\n",
    "\n",
    "вход: aaabbc → вывод: a3b2c,\n",
    "вход: abcd → вывод: abcd (так как сжатая равна)."
   ]
  },
  {
   "cell_type": "code",
   "execution_count": 4,
   "id": "a0c38d9c-de42-4b93-923d-e83bc5673386",
   "metadata": {},
   "outputs": [
    {
     "name": "stdout",
     "output_type": "stream",
     "text": [
      "строка \"abcc\" - abc2\n",
      "строка \"abc\" - abc\n",
      "строка \"a\" - не требует сжатия\n",
      "строка \"aaabbc\" - a3b2c\n",
      "строка \"abcd\" - abcd\n",
      "строка \"aabccaaacabbb\" - a2bc2a3cab3\n",
      "строка \"\" - не требует сжатия\n",
      "строка \"     asdasssss\" -  5asdas5\n"
     ]
    }
   ],
   "source": [
    "# Чтобы сжатая строка не превышала исходную - не добавляем для единичных символов счетчики\n",
    "def kompression_lines(lines):\n",
    "    kompress_str = '' # итоговая строка\n",
    "    count_sumbol = 1  # счетчик символов\n",
    "    if len (lines) > 1:\n",
    "        for item in range(1, len(lines)):     # начинаем со второго символа\n",
    "            if lines[item] == lines[item-1]:  # текущий символ совпадает с предыдущим\n",
    "                count_sumbol += 1\n",
    "            else:\n",
    "                kompress_str += lines[item-1]\n",
    "                if count_sumbol > 1: kompress_str += str(count_sumbol)  # добавляем счетчик только если символ не один в строке\n",
    "                count_sumbol = 1\n",
    "        kompress_str += lines[-1]\n",
    "        if count_sumbol > 1: kompress_str += str(count_sumbol)        \n",
    "    else:\n",
    "        return('не требует сжатия')\n",
    "    return kompress_str    \n",
    "\n",
    "test_data = ['abcc', 'abc', 'a', 'aaabbc', 'abcd', 'aabccaaacabbb','','     asdasssss']\n",
    "for item in test_data:\n",
    "    print(f'строка \"{item}\" - {kompression_lines(item)}')\n"
   ]
  },
  {
   "cell_type": "markdown",
   "id": "4ac9a3b0-6a7d-47ea-bb47-e88242fc1c8d",
   "metadata": {},
   "source": [
    "Задание 3\n",
    "Хаотичные скобки\n",
    "Реализуйте функцию, которая проверяет, правильно ли расставлены скобки в строке (включая круглые, квадратные и фигурные скобки)."
   ]
  },
  {
   "cell_type": "code",
   "execution_count": 6,
   "id": "a47b427f-02bf-4d38-b781-1dbc3cb78b47",
   "metadata": {},
   "outputs": [
    {
     "name": "stdout",
     "output_type": "stream",
     "text": [
      "[[](())]\n",
      "проверяемая строка [lines[i:i + block_size] for i in range(0, len(lines), block_size)] = True\n",
      "\n",
      "(([]))\n",
      "проверяемая строка reversed_lines.append(.join(words[::-1])) = True\n",
      "\n",
      "([(()])())\n",
      "проверяемая строка X = np.append(np.ones[((n,1)]), X.values.reshape(n,1), axis = 1) = False\n",
      "\n",
      "[[{())}]\n",
      "проверяемая строка [[{())}] = False\n",
      "\n"
     ]
    }
   ],
   "source": [
    "def suche_nach_klammern(lines):\n",
    "    open_symbol = '{[('\n",
    "    close_symbol = '}])'\n",
    "    stack = []                          # пустой стек для хранения открывающих скобок.\n",
    "    # В заданном тесте убираем все символы кроме скобок\n",
    "    lines = \"\".join(x for x in lines if x in \"({[]})\")\n",
    "    print(lines)\n",
    "    for symbol in lines:\n",
    "        if symbol in open_symbol:     # добавляем открывающуюся скобку в стек\n",
    "            stack.append(symbol)\n",
    "        elif symbol in close_symbol:  # нашли закрывающую скобку, проверяем не пуст ли стек, извлекаем последний элемент и сравниваем\n",
    "            # если стек пуст или последний элемент из стека не соответствует закрывающей скобке - скобки расставлены неправильно\n",
    "            if not stack or open_symbol.index(stack.pop()) != close_symbol.index(symbol): \n",
    "                return False\n",
    "#        print(stack)        \n",
    "    return not stack   # стек пустой\n",
    "\n",
    "test_list = [\n",
    "    '[lines[i:i + block_size] for i in range(0, len(lines), block_size)]',\n",
    "    'reversed_lines.append(' '.join(words[::-1]))',\n",
    "    'X = np.append(np.ones[((n,1)]), X.values.reshape(n,1), axis = 1)',\n",
    "    '[[{())}]']\n",
    "\n",
    "for i in test_list:\n",
    "    print(f'проверяемая строка {i} = {suche_nach_klammern(i)}\\n')"
   ]
  },
  {
   "cell_type": "markdown",
   "id": "983aec62-1ad0-4c44-96f6-f5680ecafb2a",
   "metadata": {},
   "source": [
    "Задание 4\n",
    "Генератор случайных паролей\n",
    "Напишите функцию, которая генерирует пароль заданной длины. В реализации надо учитывать, что:\n",
    "\n",
    "Пароль должен содержать буквы, цифры и специальные символы.\n",
    "Длина пароля задается пользователем."
   ]
  },
  {
   "cell_type": "code",
   "execution_count": 8,
   "id": "3437a8d8-5b2b-4552-a0af-622652284f75",
   "metadata": {},
   "outputs": [
    {
     "name": "stdout",
     "output_type": "stream",
     "text": [
      "evCcikljPHDr\n",
      "0%wP9eLCwFE&\n",
      "24RG5603AQn{\n"
     ]
    }
   ],
   "source": [
    "import string\n",
    "import random\n",
    "\n",
    "def erstellen_password(length,count_digits,count_sp_ch):\n",
    "    letters = string.ascii_letters      # строчныe и прописныe буквы\n",
    "    digits = string.digits              # числа от 0 до 9: '0123456789'.   \n",
    "    special_chars = string.punctuation  # строка специальных символов.\n",
    "\n",
    "    password = ''.join(random.choice(digits) for _ in range(count_digits))                  # берем заданное количество цыфр\n",
    "    password += ''.join(random.choice(special_chars) for _ in range(count_sp_ch))           # берем заданное количество спец.символов\n",
    "    count_letters = length - count_digits - count_sp_ch\n",
    "    password += ''.join(random.choice(letters) for _ in range(count_letters))               # остальное добиваем буквами\n",
    "#    print(password)\n",
    "    password = list(password)                          # делаем из строки список\n",
    "    random.shuffle(password)                           # перемешиваем элементы \n",
    "    shuffle_password = \"\"                              # новый пароль с перемешанными символами.\n",
    "    for item in  password:\n",
    "        shuffle_password += item\n",
    "    return shuffle_password\n",
    "\n",
    "print(erstellen_password(12,0,0))\n",
    "print(erstellen_password(12,2,2))\n",
    "print(erstellen_password(12,6,1))\n",
    "\n"
   ]
  },
  {
   "cell_type": "markdown",
   "id": "dfc7bfdf-ec69-447b-837e-4c3992abeb13",
   "metadata": {},
   "source": [
    "Задание 5 \n",
    "Эмуляция работы электронной очереди\n",
    "Напишите класс для симуляции работы электронной очереди, например, в банке.\n",
    "\n",
    "Критерии оценки:\n",
    "\n",
    "Система должна поддерживать добавление клиентов с указанием их приоритета (например, VIP, обычный) — 1 балл.\n",
    "Выбор клиента для следующей обработки должен учитывать приоритет — 1 балл.\n",
    "Реализуйте отчет для администрации с информацией, сколько времени заняло обслуживание клиентов — 4 балла."
   ]
  },
  {
   "cell_type": "code",
   "execution_count": 67,
   "id": "c910377f-cd41-4a36-afd5-49729165ecc4",
   "metadata": {},
   "outputs": [
    {
     "name": "stdout",
     "output_type": "stream",
     "text": [
      "Общее время обслуживания: 156.\n",
      "Время обслуживания 2 VIP: 60, 8 обычных: 96.\n",
      "В очереди осталось 0 VIP и  5 обычных клиентов\n"
     ]
    }
   ],
   "source": [
    "import random\n",
    "\n",
    "class Client:                 # Класс клиент (VIP или массовый (обычный))\n",
    "    def __init__(self, vip_status):\n",
    "        self.vip_status = vip_status\n",
    "\n",
    "class Queue:                  # Класс очередь\n",
    "    def __init__(self, vip_zeit, regulag_zeit):\n",
    "        self.vip_zeit = vip_zeit            # время на обслуживание ВИП-клиента\n",
    "        self.regulag_zeit = regulag_zeit    # время на обслуживание массового клиента\n",
    "        self.simple_queue = []   # очередь ВИП-клиентов\n",
    "        self.vip_queue = []      # очередь массового клиентов\n",
    "        self.report_list = {'vip': 0, 'simple': 0}\n",
    "\n",
    "# функция добавления клиента в определенную очередь\n",
    "    def add_client(self, client):\n",
    "        if client.vip_status:\n",
    "            self.vip_queue.append(client)\n",
    "        else:\n",
    "            self.simple_queue.append(client)\n",
    "\n",
    "# Удаление клиента из очереди после обслуживания.\n",
    "    def remove_client(self):\n",
    "        if len(self.vip_queue) > 0:\n",
    "            self.report_list['vip'] += 1\n",
    "            return self.vip_queue.pop(0)\n",
    "        else:\n",
    "            self.report_list['simple'] += 1\n",
    "            return self.simple_queue.pop(0)\n",
    "\n",
    "    # создание отчета\n",
    "    def generate_report(self):\n",
    "        vip_count = self.report_list['vip']         # сколько обслужили ВИП-клиентов\n",
    "        simple_count = self.report_list['simple']   # сколько обслужили массоовых клиентов\n",
    "        total_vip_zeit = vip_count * self.vip_zeit\n",
    "        total_simple_zeit = simple_count * self.regulag_zeit\n",
    "        print(f'Общее время обслуживания: {total_vip_zeit+total_simple_zeit}.\\n'\n",
    "              f'Время обслуживания {vip_count} VIP: {total_vip_zeit}, {simple_count} обычных: {total_simple_zeit}.\\n'\n",
    "              f'В очереди осталось {len(self.vip_queue)} VIP и  {len(self.simple_queue)} обычных клиентов')\n",
    "\n",
    "\n",
    "# Инициализация очереди\n",
    "queue = Queue(vip_zeit=30, regulag_zeit=12)\n",
    "\n",
    "# симуляция добавления клиентов - статус выбираем случайно\n",
    "for i in range(15):\n",
    "    status = random.choices([0,1], weights=[0.75, 0.25])[0]\n",
    "    client = Client(status)\n",
    "    queue.add_client(client)\n",
    "\n",
    "for i in range(10): # обслуживаем клиентов и удаляем из очереди\n",
    "    queue.remove_client()\n",
    "# Генерируем промежуточный отчет\n",
    "queue.generate_report()"
   ]
  },
  {
   "cell_type": "code",
   "execution_count": null,
   "id": "6fd7d01c-247a-4266-8eed-de376370593d",
   "metadata": {},
   "outputs": [],
   "source": []
  },
  {
   "cell_type": "markdown",
   "id": "b23070f7-e8d2-4ba1-bd9b-f168bc436b95",
   "metadata": {},
   "source": [
    "Задание 6\n",
    "Проверка на «почти палиндром»\n",
    "Напишите программу, которая проверяет, является ли строка палиндромом или «почти палиндромом». «Почти палиндром» означает, что можно удалить одну букву, чтобы строка стала палиндромом."
   ]
  },
  {
   "cell_type": "code",
   "execution_count": 12,
   "id": "d354699a-ac49-4921-b67c-55927cdbfb4e",
   "metadata": {},
   "outputs": [
    {
     "name": "stdout",
     "output_type": "stream",
     "text": [
      "строка \"Он дивен, палиндром, и ни морд, ни лап не видно\"  - палиндром\n",
      "строка \"Муза, и ранясь шилом опыта, ты помолишься на разум\"  - Почти палиндром\n",
      "строка \"Напишите программу, которая проверяет, является ли строка палиндромом\"  - Не палиндром и не почти палиндром\n"
     ]
    }
   ],
   "source": [
    "\n",
    "def das_ist_palindrom(s):\n",
    "    s = s.lower()   # привдим все символы к нижнему регистру\n",
    "                    # удаляем специальные символы \n",
    "    s = ''.join(char for char in s if char.isalnum() or char.isspace())\n",
    "#    s.strip()          # удалиm лишние пробелы в начале и в конце\n",
    "    s = ''.join(s.split()) # удалим пробел в середине строки\n",
    "    if s == s[::-1]:\n",
    "        return \"палиндром\"\n",
    "    else: # пробуем поочередно удалять буквы\n",
    "        for item in range(len(s)):\n",
    "            neue_s = s[:item] + s[item+1:]\n",
    "            if neue_s == neue_s[::-1]:\n",
    "                return \"Почти палиндром\"\n",
    "    return \"Не палиндром и не почти палиндром\"\n",
    "\n",
    "test_lines = [\n",
    "'Он дивен, палиндром, и ни морд, ни лап не видно',\n",
    "'Муза, и ранясь шилом опыта, ты помолишься на разум',\n",
    "'Напишите программу, которая проверяет, является ли строка палиндромом'\n",
    "]\n",
    "\n",
    "for item in test_lines:\n",
    "    print(f'строка \"{item}\"  - {das_ist_palindrom(item)}')"
   ]
  },
  {
   "cell_type": "markdown",
   "id": "0da43ffe-7b3d-48c7-ac02-035db29ee27b",
   "metadata": {},
   "source": [
    "Задание 7\n",
    "Задача Шредингера\n",
    "Разработайте программу, которая «стирает» фрагменты текста в файле. Например:\n",
    "\n",
    "Пользователь указывает файл и процент текста, который нужно удалить (например, 30%).\n",
    "Программа случайно выбирает слова или части абзацев и заменяет их на пробел или ..., сохраняя общий объем документа.\n",
    "Вход:\n",
    "«Сегодня солнечный день, и я собираюсь гулять в парке с моими друзьями.»\n",
    "\n",
    "Вывод (удалено ~30%):\n",
    "«Сегодня ... день, и я собираюсь гулять ... моими друзьями.»"
   ]
  },
  {
   "cell_type": "code",
   "execution_count": 28,
   "id": "061aae21-1edc-4164-8b56-52ef2dcd3557",
   "metadata": {},
   "outputs": [
    {
     "name": "stdout",
     "output_type": "stream",
     "text": [
      "Всего символов в тексте:  1601\n",
      "Нужно удалить 640\n",
      "Средняя длина слова: 8,  удалить - 80 слов\n",
      "[10, 187, 27, 116, 178, 138, 200, 106, 148, 118, 82, 38, 70, 189, 50, 91, 204, 152, 30, 193, 151, 143, 64, 47, 65, 184, 31, 32, 167, 15, 83, 174, 74, 154, 144, 29, 131, 76, 133, 78, 120, 44, 98, 122, 130, 125, 61, 3, 34, 20, 48, 13, 142, 160, 197, 163, 192, 55, 11, 71, 101, 195, 158, 153, 128, 97, 112, 0, 117, 198, 92, 58, 165, 63, 139, 84, 77, 146, 39, 88]\n",
      "656\n",
      "процент замены символов 41.0 %\n",
      "*** жизни человека, *** бы жизнь ни была, есть история *** *** Сартр *** философском *** \"Бытие и ничто\" (1943). *** хороший пример мысли-бумеранга, которая, описав широкий *** над *** *** *** *** неожиданно *** висок своему творцу. *** *** сущность \"неудачи\" самого Сартра? *** следует сразу *** *** \"неудача\" *** стоит иных удач, что *** \"провал\" с *** с бесчисленным *** вызовов *** *** *** что \"неудача\" признанной \"звезды\" *** *** значительна в *** смысле, *** *** *** берегов индивидуального творчества, *** *** *** пространства умозрительного пейзажа, *** современной западной *** *** самым в известной степени *** *** стихийного бедствия. *** этому \"бедствию\" -- нигилизм. *** области культуры он нашел, в *** свое выражение в *** *** *** общественного *** как *** из иллюзий, *** наряду с *** иллюзией, *** *** связей *** с миром. В холоде *** *** в абсурд, *** *** *** спасением, *** он *** теплом разрушения: *** *** *** *** Сартром. Для того *** не *** \"условий человеческого *** необходимо *** их *** Сартр превратил роман в испытательный полигон. *** романа совместил в *** субъекта и объекта эксперимента. Каковы *** формы и *** добросовестности *** опыта? Во *** *** Сартр *** пленником *** *** \"условий *** существования\". Плен оказался ***\n"
     ]
    }
   ],
   "source": [
    "import random\n",
    "\n",
    "def choice_indexes(words,count_weg):\n",
    "    # Выбираем индексы для удаления\n",
    "    return random.sample(range(len(words)), count_weg)\n",
    "\n",
    "def refresch_count_weg(words, indices_weg, chars_weg, avg_length):\n",
    "    # Считаем дельту по символам\n",
    "    count_non_chars = 0\n",
    "    \n",
    "    for i, word in enumerate(words):\n",
    "        if i in indices_weg:\n",
    "            count_non_chars += len(word)\n",
    "    return count_non_chars\n",
    "\n",
    "def loschen_text(filename, percent_non):\n",
    "    # Чтение файла\n",
    "    with open(filename, 'r', encoding='utf-8') as file:\n",
    "        file_text = file.read()\n",
    "        words = file_text.split()  # список слов текста\n",
    "        total_chars = len(file_text)\n",
    "        print('Всего символов в тексте: ',total_chars)\n",
    "        chars_weg = int(total_chars * percent_non / 100)\n",
    "        print('Нужно удалить', chars_weg)\n",
    "   \n",
    "        avg_length =round(total_chars / len(words))        # Найдем среднюю длину слова и посчитаем сколько слов примерно нужно удалить\n",
    "        count_weg = int(chars_weg / avg_length)\n",
    "        print(f'Средняя длина слова: {avg_length},  удалить - {count_weg} слов')\n",
    "\n",
    "    # Выбираем индексы для удаления\n",
    "    indices_weg = choice_indexes(words,count_weg)\n",
    "    print(indices_weg)\n",
    "\n",
    "    # Считаем символы\n",
    "    count_weg += refresch_count_weg(words, indices_weg, chars_weg, avg_length )\n",
    "    print(count_weg)\n",
    "    print(f'процент замены символов {round(count_weg/total_chars*100,1)} %')\n",
    "    \n",
    "    \n",
    "    # Замена слов на \"***\" \n",
    "    new_text = []\n",
    "    for i, word in enumerate(words):\n",
    "        if i in indices_weg:\n",
    "            replacement = \"***\" \n",
    "            new_text.append(replacement)\n",
    "        else:\n",
    "            new_text.append(word)\n",
    "    new_text = ' '.join(new_text)\n",
    "    print(new_text)\n",
    "    with open('new_file.txt', 'w') as f:\n",
    "        f.write(new_text)\n",
    "\n",
    "file_name = 'sartr.txt'\n",
    "loschen_text(file_name, 40)   # задаем имя файла и % удаления текста"
   ]
  },
  {
   "cell_type": "code",
   "execution_count": null,
   "id": "263e1712-d5a8-4cd5-aff5-f58b4313d18d",
   "metadata": {},
   "outputs": [],
   "source": []
  },
  {
   "cell_type": "code",
   "execution_count": null,
   "id": "950252b6-fec6-440b-b6f0-27cc94666ae3",
   "metadata": {},
   "outputs": [],
   "source": []
  },
  {
   "cell_type": "code",
   "execution_count": null,
   "id": "5c09b9be-f6e1-41af-94c3-a11ef1e7c5e2",
   "metadata": {},
   "outputs": [],
   "source": []
  }
 ],
 "metadata": {
  "kernelspec": {
   "display_name": "Python [conda env:base] *",
   "language": "python",
   "name": "conda-base-py"
  },
  "language_info": {
   "codemirror_mode": {
    "name": "ipython",
    "version": 3
   },
   "file_extension": ".py",
   "mimetype": "text/x-python",
   "name": "python",
   "nbconvert_exporter": "python",
   "pygments_lexer": "ipython3",
   "version": "3.12.7"
  }
 },
 "nbformat": 4,
 "nbformat_minor": 5
}
